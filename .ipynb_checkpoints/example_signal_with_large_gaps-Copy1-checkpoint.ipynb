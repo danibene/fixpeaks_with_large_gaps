{
 "cells": [
  {
   "cell_type": "code",
   "execution_count": null,
   "id": "019556c6",
   "metadata": {},
   "outputs": [],
   "source": [
    "import os\n",
    "import sys\n",
    "import numpy as np\n",
    "import stopit\n",
    "import time\n",
    "import matplotlib.pyplot as plt"
   ]
  },
  {
   "cell_type": "code",
   "execution_count": null,
   "id": "e20a0c57",
   "metadata": {},
   "outputs": [],
   "source": [
    "# importing neurokit2 as a submodule so that it's always the same version\n",
    "repo_name = \"fixpeaks_with_large_gaps\"\n",
    "submodule_parent_dir = \"lib\"\n",
    "submodule_name = \"NeuroKitMod\"\n",
    "\n",
    "repo_path = os.getcwd()\n",
    "base_dir = os.path.basename(repo_path)\n",
    "while base_dir != repo_name:\n",
    "    repo_path = os.path.dirname(os.path.abspath(repo_path))\n",
    "    base_dir = os.path.basename(repo_path)\n",
    "    \n",
    "submodule_path = os.path.join(repo_path, submodule_parent_dir, submodule_name)\n",
    "sys.path.insert(0, submodule_path)"
   ]
  },
  {
   "cell_type": "code",
   "execution_count": null,
   "id": "71a8249b",
   "metadata": {},
   "outputs": [],
   "source": [
    "import neurokit2 as nk"
   ]
  },
  {
   "cell_type": "code",
   "execution_count": null,
   "id": "8e7f61aa",
   "metadata": {},
   "outputs": [],
   "source": [
    "signal = nk.signal_simulate(duration=20, sampling_rate=1000, frequency=1)\n",
    "peaks_true = nk.signal_findpeaks(signal)[\"Peaks\"]\n",
    "peaks = np.delete(peaks_true, [5,6,7,8,9,10,15,16,17])  # create gaps \n",
    "#peaks = np.delete(peaks_true, [5,6,16,17])  # create gaps \n",
    "\n",
    "# (I added more than in the example in the function docstring)\n",
    "peaks = np.sort(np.append(peaks, [1350, 11350, 18350]))  # add artifacts\n",
    "\n",
    "peaks[6] = peaks[6] + 5\n",
    "\n",
    "#peaks = np.sort(np.append(peaks, [5, 800, 1350, 11350, 18350]))  # add artifacts"
   ]
  },
  {
   "cell_type": "code",
   "execution_count": null,
   "id": "5f6f3cd4",
   "metadata": {},
   "outputs": [],
   "source": [
    "import matplotlib.pyplot as plt\n",
    "plt.figure(figsize=(15,3))\n",
    "plt.plot(signal)    \n",
    "plt.scatter(peaks_true, signal[peaks_true], color=\"gray\", alpha=0.5)\n",
    "plt.scatter(peaks, signal[peaks], color=\"red\", alpha=0.5)\n",
    "\n",
    "plt.show()"
   ]
  },
  {
   "cell_type": "code",
   "execution_count": null,
   "id": "84dd3c3e",
   "metadata": {},
   "outputs": [],
   "source": [
    "# load real biosignal data\n",
    "data = nk.data(dataset=\"bio_resting_8min_100hz\")\n",
    "# get ECG channel\n",
    "ecg_data_all = data[\"ECG\"]\n",
    "# sampling rate in file name\n",
    "sampling_rate = 100\n",
    "# take 5 minutes of the recording\n",
    "num_seconds = 300\n",
    "\n",
    "# set the seed for the random number generator\n",
    "# used for distorting the ECG data\n",
    "seed = 42\n",
    "np.random.seed(seed)\n",
    "\n",
    "# select a 5 minute segment\n",
    "first_sample = np.random.randint(0, len(ecg_data_all) - num_seconds * sampling_rate)\n",
    "last_sample = first_sample + num_seconds * sampling_rate\n",
    "ecg_clean = np.array(ecg_data_all[first_sample : last_sample])\n",
    "\n",
    "# distort the ECG data\n",
    "noise_shape = \"laplace\"\n",
    "noise_amplitude = 0.5\n",
    "noise_frequency = 5\n",
    "powerline_amplitude = 0\n",
    "powerline_frequency = 50\n",
    "artifacts_amplitude = 2\n",
    "artifacts_number = int(np.floor((len(ecg_clean) / sampling_rate) / 2))\n",
    "artifacts_frequency = 10\n",
    "linear_drift = False\n",
    "\n",
    "# create a copy of ECG data\n",
    "ecg_noise = ecg_clean.copy()\n",
    "ecg_noise = nk.signal_distort(\n",
    "    ecg_noise,\n",
    "    sampling_rate=sampling_rate,\n",
    "    noise_shape=noise_shape,\n",
    "    noise_amplitude=noise_amplitude,\n",
    "    noise_frequency=noise_frequency,\n",
    "    powerline_amplitude=powerline_amplitude,\n",
    "    powerline_frequency=powerline_frequency,\n",
    "    artifacts_amplitude=artifacts_amplitude,\n",
    "    artifacts_frequency=artifacts_frequency,\n",
    "    artifacts_number=artifacts_number,\n",
    "    linear_drift=linear_drift,\n",
    "    random_state=seed,\n",
    "    silent=False\n",
    ")\n",
    "signals_clean, info_clean = nk.ecg_process(ecg_clean, sampling_rate=sampling_rate)\n",
    "signals_noise, info_noise = nk.ecg_process(ecg_noise, sampling_rate=sampling_rate)"
   ]
  },
  {
   "cell_type": "code",
   "execution_count": null,
   "id": "b5aecce7",
   "metadata": {},
   "outputs": [],
   "source": [
    "plt.figure(figsize=(15,3))\n",
    "plt.plot(signals_noise[\"ECG_Raw\"])\n",
    "plt.show()"
   ]
  },
  {
   "cell_type": "code",
   "execution_count": null,
   "id": "abda4e4a",
   "metadata": {},
   "outputs": [],
   "source": [
    "plt.plot(signals_noise[\"ECG_Rate\"])\n"
   ]
  },
  {
   "cell_type": "code",
   "execution_count": null,
   "id": "d3e92121",
   "metadata": {},
   "outputs": [],
   "source": [
    "# Format input\n",
    "from neurokit2.signal.signal_formatpeaks import _signal_formatpeaks_sanitize\n",
    "peaks = _signal_formatpeaks_sanitize(signals_noise)"
   ]
  },
  {
   "cell_type": "code",
   "execution_count": null,
   "id": "2d6fe252",
   "metadata": {},
   "outputs": [],
   "source": [
    "interval = nk.signal_period(peaks, sampling_rate=sampling_rate)\n",
    "interval_without_outliers = interval[np.invert(nk.find_outliers(interval))]"
   ]
  },
  {
   "cell_type": "code",
   "execution_count": null,
   "id": "809e23b1",
   "metadata": {},
   "outputs": [],
   "source": [
    "interval_min = np.min(interval_without_outliers)\n",
    "interval_max = np.max(interval_without_outliers)"
   ]
  },
  {
   "cell_type": "code",
   "execution_count": null,
   "id": "26a369cf",
   "metadata": {},
   "outputs": [],
   "source": [
    "print(interval_min)"
   ]
  },
  {
   "cell_type": "code",
   "execution_count": null,
   "id": "60ad1516",
   "metadata": {},
   "outputs": [],
   "source": [
    "peaks"
   ]
  },
  {
   "cell_type": "code",
   "execution_count": null,
   "id": "ecd709a0",
   "metadata": {},
   "outputs": [],
   "source": [
    "_, peaks_corrected = nk.signal_fixpeaks(peaks=peaks, method=\"Kubios\", sampling_rate=sampling_rate)"
   ]
  },
  {
   "cell_type": "code",
   "execution_count": null,
   "id": "fc7927ad",
   "metadata": {},
   "outputs": [],
   "source": [
    "peaks_corrected = nk.signal_fixpeaks(peaks=peaks, method=\"neurokit\", interval_min=interval_min, interval_max=interval_max, sampling_rate=sampling_rate, interpolate_on_peaks=True)\n",
    "print(peaks_corrected)"
   ]
  },
  {
   "cell_type": "code",
   "execution_count": null,
   "id": "aed79867",
   "metadata": {},
   "outputs": [],
   "source": [
    "interval_min"
   ]
  },
  {
   "cell_type": "code",
   "execution_count": null,
   "id": "619a66ad",
   "metadata": {},
   "outputs": [],
   "source": [
    "interval_corrected = nk.signal_period(peaks_corrected, sampling_rate=sampling_rate)"
   ]
  },
  {
   "cell_type": "code",
   "execution_count": null,
   "id": "cc025bfd",
   "metadata": {},
   "outputs": [],
   "source": [
    "nk.signal_fixpeaks"
   ]
  },
  {
   "cell_type": "code",
   "execution_count": null,
   "id": "b5df3c8a",
   "metadata": {},
   "outputs": [],
   "source": [
    "plt.plot(peaks/sampling_rate, interval*1000)\n",
    "plt.plot(peaks_corrected/sampling_rate, interval_corrected*1000)"
   ]
  },
  {
   "cell_type": "code",
   "execution_count": null,
   "id": "25b747b1",
   "metadata": {},
   "outputs": [],
   "source": [
    "\"\"\"\n",
    "interval = nk.signal_period(\n",
    "                peaks, sampling_rate=sampling_rate, desired_length=None\n",
    "            )\n",
    "\n",
    "plt.plot(interval)\n",
    "\"\"\"\n",
    "# interpolate the intervals after removing interval outliers \n",
    "# and then take the peak that is closest to the interpolated interval"
   ]
  },
  {
   "cell_type": "code",
   "execution_count": null,
   "id": "e9d1aaa4",
   "metadata": {},
   "outputs": [],
   "source": [
    "max_seconds = 10\n",
    "interval_min = 0.5\n",
    "methods = [\"neurokit\", \"Kubios\"]\n",
    "\n",
    "for method in methods:\n",
    "    if method==\"neurokit\":\n",
    "        interval_maxes = [None, 1.5, 2.0]\n",
    "    else:\n",
    "        interval_maxes = [1.5]\n",
    "    for interval_max in interval_maxes:\n",
    "        print(\"Method: \" + method)\n",
    "        print(\"Interval max: \" + str(interval_max))\n",
    "        with stopit.ThreadingTimeout(max_seconds) as context_manager:\n",
    "\n",
    "            t0 = time.time()\n",
    "            if method==\"neurokit\":\n",
    "                peaks_corrected = nk.signal_fixpeaks(peaks=peaks, interval_min=interval_min, interval_max=interval_max, method=method, iterations_max=1000, interpolate_on_peaks=True, n_nan=None)\n",
    "            else:\n",
    "                _, peaks_corrected = nk.signal_fixpeaks(peaks=peaks, interval_min=interval_min, interval_max=interval_max, method=method)\n",
    "\n",
    "            t1 = time.time()\n",
    "\n",
    "        if context_manager.state == context_manager.EXECUTED:\n",
    "            total = t1-t0\n",
    "            print(\"Took \" + str(total) + \" seconds. EXECUTED\")\n",
    "            print(\"Peaks corrected: \")\n",
    "            print(peaks_corrected)\n",
    "            try:\n",
    "                plt.figure(figsize=(15,3))\n",
    "                plt.plot(signal)    \n",
    "                plt.scatter(peaks, signal[peaks], color=\"red\", alpha=0.5)\n",
    "                plt.scatter(peaks_corrected, signal[peaks_corrected], color=\"green\", alpha=0.5)\n",
    "                plt.legend([\"Signal\",\"Input peaks\", \"Corrected peaks\"])\n",
    "                plt.show()\n",
    "            except:\n",
    "                pass\n",
    "\n",
    "        elif context_manager.state == context_manager.TIMED_OUT:\n",
    "            print(\"Took more than \" + str(max_seconds) + \" seconds. TIMED_OUT\")"
   ]
  },
  {
   "cell_type": "code",
   "execution_count": null,
   "id": "26103da9",
   "metadata": {},
   "outputs": [],
   "source": [
    "peaks_copy = peaks.copy()"
   ]
  },
  {
   "cell_type": "code",
   "execution_count": null,
   "id": "a1d10799",
   "metadata": {},
   "outputs": [],
   "source": [
    "sampling_rate = 1000\n",
    "n_nan = 2\n",
    "interpolate_on_peaks = False\n",
    "interval_min = 0.5\n",
    "interval_max = 1.5"
   ]
  },
  {
   "cell_type": "code",
   "execution_count": null,
   "id": "c61d2984",
   "metadata": {},
   "outputs": [],
   "source": [
    "interval"
   ]
  },
  {
   "cell_type": "code",
   "execution_count": null,
   "id": "bfa8b341",
   "metadata": {},
   "outputs": [],
   "source": [
    "nk.standardize(interval, robust=False)"
   ]
  },
  {
   "cell_type": "code",
   "execution_count": null,
   "id": "550094c6",
   "metadata": {},
   "outputs": [],
   "source": [
    "nk.standardize(interval, robust=True)"
   ]
  },
  {
   "cell_type": "code",
   "execution_count": null,
   "id": "5661024a",
   "metadata": {},
   "outputs": [],
   "source": [
    "import pandas as pd\n",
    "\n",
    "def _remove_small(\n",
    "    peaks,\n",
    "    sampling_rate=1000,\n",
    "    interval_min=None,\n",
    "    relative_interval_min=None,\n",
    "    robust=False,\n",
    "):\n",
    "    if interval_min is None and relative_interval_min is None:\n",
    "        return peaks\n",
    "    if interval_min is not None:\n",
    "        interval = nk.signal_period(\n",
    "            peaks, sampling_rate=sampling_rate, desired_length=None\n",
    "        )\n",
    "        peaks = peaks[interval > interval_min]\n",
    "    if relative_interval_min is not None:\n",
    "        interval = nk.signal_period(\n",
    "            peaks, sampling_rate=sampling_rate, desired_length=None\n",
    "        )\n",
    "        peaks = peaks[standardize(interval, robust=robust) > relative_interval_min]\n",
    "    return peaks\n",
    "\n",
    "def _period_to_location(period, sampling_rate=1000, first_location=0):\n",
    "    location = np.nancumsum(period * sampling_rate)\n",
    "    location = location - (location[0] - first_location)\n",
    "    return location.astype(int)"
   ]
  },
  {
   "cell_type": "code",
   "execution_count": null,
   "id": "e9d4c763",
   "metadata": {},
   "outputs": [],
   "source": [
    "peaks = peaks_copy\n",
    "peaks_clean = _remove_small(peaks, sampling_rate=sampling_rate, interval_min=interval_min)\n",
    "peaks = peaks_clean"
   ]
  },
  {
   "cell_type": "code",
   "execution_count": null,
   "id": "efc61c4c",
   "metadata": {},
   "outputs": [],
   "source": [
    "peaks_clean"
   ]
  },
  {
   "cell_type": "code",
   "execution_count": null,
   "id": "61a4f896",
   "metadata": {},
   "outputs": [],
   "source": [
    "interval = nk.signal_period(\n",
    "                peaks, sampling_rate=sampling_rate, desired_length=None\n",
    "            )\n",
    "outliers = interval > interval_max\n",
    "outliers_loc = np.where(outliers)[0]\n",
    "\n",
    "# Delete large interval and replace by two unknown intervals\n",
    "interval[outliers] = np.nan\n",
    "interval = np.insert(interval, outliers_loc, np.nan)\n",
    "#    new_peaks_location = np.where(np.isnan(interval))[0]\n",
    "\n",
    "# Interpolate values\n",
    "interval = pd.Series(interval).interpolate().values\n",
    "peaks_corrected = _period_to_location(interval, sampling_rate, first_location=peaks[0])\n",
    "peaks = np.insert(\n",
    "    peaks, outliers_loc, peaks_corrected[outliers_loc + np.arange(len(outliers_loc))]\n",
    ")"
   ]
  },
  {
   "cell_type": "code",
   "execution_count": null,
   "id": "3287b9c2",
   "metadata": {},
   "outputs": [],
   "source": [
    "outliers_loc"
   ]
  },
  {
   "cell_type": "code",
   "execution_count": null,
   "id": "ea45931f",
   "metadata": {},
   "outputs": [],
   "source": [
    "peaks"
   ]
  },
  {
   "cell_type": "code",
   "execution_count": null,
   "id": "0d8d1541",
   "metadata": {},
   "outputs": [],
   "source": [
    "# consider peak at 0 index outlier only if 1st interval is outlier\n",
    "if 1 not in outliers_loc:\n",
    "    # interval returned by signal_period at index 0 is the mean of the intervals\n",
    "    # so it does not actually correspond to whether the first peak is an outlier\n",
    "    outliers_loc = outliers_loc[outliers_loc!=0]\n"
   ]
  },
  {
   "cell_type": "code",
   "execution_count": null,
   "id": "c453c56e",
   "metadata": {},
   "outputs": [],
   "source": [
    "# one option\n",
    "# only remove first peak if the first interval is an outlier but not the second\n",
    "# only remove last peak if the last interval is an outlier but not the second-to-last\n",
    "interval_outliers_to_peak_outliers(interval_outliers_loc):\n",
    "    if 1 in interval_outliers_loc and 2 in interval_outliers_loc:\n",
    "        interval_outliers_loc = interval_outliers_loc[interval_outliers_loc!=0]\n",
    "    elif 1 in interval_outliers_loc:\n",
    "        interval_outliers_loc = set(interval_outliers_loc,0)\n",
    "    if len(interval_outliers_loc)"
   ]
  },
  {
   "cell_type": "code",
   "execution_count": null,
   "id": "5432e21a",
   "metadata": {},
   "outputs": [],
   "source": [
    "test = list(outliers_loc)\n",
    "test.append(0)\n",
    "test"
   ]
  },
  {
   "cell_type": "code",
   "execution_count": null,
   "id": "5af8d9b8",
   "metadata": {},
   "outputs": [],
   "source": [
    "set(list(outliers_loc).append(0))"
   ]
  },
  {
   "cell_type": "code",
   "execution_count": null,
   "id": "836b9199",
   "metadata": {},
   "outputs": [],
   "source": [
    "# consider peak at 0 index outlier only if 1st interval is outlier\n",
    "if 1 not in outliers_loc:\n",
    "    # interval returned by signal_period at index 0 is the mean of the intervals\n",
    "    # so it does not actually correspond to whether the first peak is an outlier\n",
    "    outliers_loc = outliers_loc[outliers_loc!=0]"
   ]
  },
  {
   "cell_type": "code",
   "execution_count": null,
   "id": "2a1e8519",
   "metadata": {},
   "outputs": [],
   "source": [
    "peaks = peaks_copy\n",
    "peaks_clean = _remove_small(peaks, sampling_rate=sampling_rate, interval_min=interval_min)\n",
    "peaks = peaks_clean"
   ]
  },
  {
   "cell_type": "code",
   "execution_count": null,
   "id": "4b17bdfa",
   "metadata": {},
   "outputs": [],
   "source": [
    "still_correct = True\n",
    "count = 0\n",
    "while still_correct:\n",
    "    count += 1\n",
    "    if count > 3:\n",
    "        still_correct=False\n",
    "    n_nan = None\n",
    "    interpolate_on_peaks = True\n",
    "    interval = nk.signal_period(\n",
    "                    peaks, sampling_rate=sampling_rate, desired_length=None\n",
    "                )\n",
    "    print(peaks)\n",
    "    print(interval)\n",
    "    plt.figure(figsize=(15,3))\n",
    "    plt.plot(peaks/sampling_rate, interval)\n",
    "    plt.show()\n",
    "    outliers = interval > interval_max\n",
    "    outliers_loc = np.where(outliers)[0]\n",
    "    # interval returned by signal_period at index 0 is the mean of the intervals\n",
    "    # so it does not actually correspond to whether the first peak is an outlier\n",
    "    outliers_loc = outliers_loc[outliers_loc!=0]\n",
    "    print(outliers_loc)\n",
    "    if np.sum(outliers) == 0:\n",
    "        still_correct=False\n",
    "    peaks_to_correct = peaks.copy().astype(float)\n",
    "    comp_n_nan = n_nan is None\n",
    "    if comp_n_nan:\n",
    "        interval_without_outliers = interval[np.invert(outliers)]\n",
    "    for loc in np.flip(outliers_loc):\n",
    "        if comp_n_nan:\n",
    "            # use mean interval to compute N of unknown intervals to add\n",
    "            n_nan = int(interval[loc] / np.nanmean(interval_without_outliers))\n",
    "        if not interpolate_on_peaks:\n",
    "            # Delete large interval and replace by N unknown intervals\n",
    "            interval[loc] = np.nan\n",
    "            interval = np.insert(interval, loc, [np.nan] * (n_nan - 1))\n",
    "        if n_nan==1:\n",
    "            peaks_to_correct[loc] = np.nan\n",
    "        else:\n",
    "            peaks_to_correct = np.insert(peaks_to_correct, loc, [np.nan] * (n_nan - 1))\n",
    "    print(peaks_to_correct)\n",
    "    print(interpolate_on_peaks)\n",
    "    # Interpolate values\n",
    "    if interpolate_on_peaks:\n",
    "        print(\"why\")\n",
    "        peaks = pd.Series(peaks_to_correct).interpolate(limit_direction=\"both\").values.astype(peaks.dtype)\n",
    "    else:\n",
    "        interval = pd.Series(interval).interpolate(limit_direction=\"both\").values\n",
    "        peaks_corrected = _period_to_location(\n",
    "            interval, sampling_rate, first_location=peaks[0]\n",
    "        )\n",
    "        replace_loc = np.where(np.isnan(peaks_to_correct))[0]\n",
    "        peaks_to_correct[replace_loc] = peaks_corrected[replace_loc]\n",
    "        peaks = peaks_to_correct.astype(peaks.dtype)"
   ]
  },
  {
   "cell_type": "code",
   "execution_count": null,
   "id": "78048815",
   "metadata": {},
   "outputs": [],
   "source": [
    "peaks_to_correct"
   ]
  },
  {
   "cell_type": "code",
   "execution_count": null,
   "id": "4c245617",
   "metadata": {},
   "outputs": [],
   "source": [
    "peaks = pd.Series(peaks_to_correct).interpolate(limit_direction=\"both\").values.astype(peaks.dtype)"
   ]
  },
  {
   "cell_type": "code",
   "execution_count": null,
   "id": "aee85b4f",
   "metadata": {},
   "outputs": [],
   "source": [
    "peaks"
   ]
  },
  {
   "cell_type": "code",
   "execution_count": null,
   "id": "30ce0af2",
   "metadata": {},
   "outputs": [],
   "source": [
    "interval[loc]"
   ]
  },
  {
   "cell_type": "code",
   "execution_count": null,
   "id": "830a0f98",
   "metadata": {},
   "outputs": [],
   "source": [
    "interval_max"
   ]
  },
  {
   "cell_type": "code",
   "execution_count": null,
   "id": "ea74ca4e",
   "metadata": {},
   "outputs": [],
   "source": [
    "n_nan = int(interval[loc] / np.nanmean(interval_without_outliers))\n",
    "n_nan"
   ]
  },
  {
   "cell_type": "code",
   "execution_count": null,
   "id": "582d3e84",
   "metadata": {},
   "outputs": [],
   "source": [
    "interval_max"
   ]
  },
  {
   "cell_type": "code",
   "execution_count": null,
   "id": "b7a4d6a4",
   "metadata": {},
   "outputs": [],
   "source": [
    "interval_min"
   ]
  },
  {
   "cell_type": "code",
   "execution_count": null,
   "id": "748b22c9",
   "metadata": {},
   "outputs": [],
   "source": [
    "print(peaks)"
   ]
  },
  {
   "cell_type": "code",
   "execution_count": null,
   "id": "168069af",
   "metadata": {},
   "outputs": [],
   "source": [
    "#array([  250,   250,  1250,  2250,  3250,  4250,  5248, 11255, 12250,\n",
    "#       13250, 14250, 10240, 18250, 19250], dtype=int64)"
   ]
  },
  {
   "cell_type": "code",
   "execution_count": null,
   "id": "7abd5167",
   "metadata": {},
   "outputs": [],
   "source": [
    "peaks"
   ]
  },
  {
   "cell_type": "code",
   "execution_count": null,
   "id": "58d36e15",
   "metadata": {},
   "outputs": [],
   "source": [
    "loc"
   ]
  },
  {
   "cell_type": "code",
   "execution_count": null,
   "id": "3296281f",
   "metadata": {},
   "outputs": [],
   "source": [
    "print(peaks)"
   ]
  },
  {
   "cell_type": "code",
   "execution_count": null,
   "id": "9b3c935a",
   "metadata": {},
   "outputs": [],
   "source": [
    "period = interval\n",
    "period"
   ]
  },
  {
   "cell_type": "code",
   "execution_count": null,
   "id": "294c7eda",
   "metadata": {},
   "outputs": [],
   "source": [
    "first_location = peaks[0]"
   ]
  },
  {
   "cell_type": "code",
   "execution_count": null,
   "id": "9c2f7c77",
   "metadata": {},
   "outputs": [],
   "source": [
    "location = np.nancumsum(period * sampling_rate)\n",
    "location"
   ]
  },
  {
   "cell_type": "code",
   "execution_count": null,
   "id": "bf3989f8",
   "metadata": {},
   "outputs": [],
   "source": [
    "location = location - (location[0] - first_location)\n",
    "location"
   ]
  },
  {
   "cell_type": "code",
   "execution_count": null,
   "id": "09e1d345",
   "metadata": {},
   "outputs": [],
   "source": [
    "peaks_corrected"
   ]
  },
  {
   "cell_type": "code",
   "execution_count": null,
   "id": "25e7b50a",
   "metadata": {},
   "outputs": [],
   "source": [
    "peaks"
   ]
  },
  {
   "cell_type": "code",
   "execution_count": null,
   "id": "22de4761",
   "metadata": {},
   "outputs": [],
   "source": [
    "peaks_corrected"
   ]
  },
  {
   "cell_type": "code",
   "execution_count": null,
   "id": "63817b10",
   "metadata": {},
   "outputs": [],
   "source": [
    "len(interval)"
   ]
  },
  {
   "cell_type": "code",
   "execution_count": null,
   "id": "360ad95d",
   "metadata": {},
   "outputs": [],
   "source": [
    "len(peaks)"
   ]
  },
  {
   "cell_type": "code",
   "execution_count": null,
   "id": "da92bd48",
   "metadata": {},
   "outputs": [],
   "source": [
    "len(interval)"
   ]
  },
  {
   "cell_type": "code",
   "execution_count": null,
   "id": "fcc23046",
   "metadata": {},
   "outputs": [],
   "source": [
    "len(peaks_corrected)"
   ]
  },
  {
   "cell_type": "code",
   "execution_count": null,
   "id": "568cd09f",
   "metadata": {},
   "outputs": [],
   "source": [
    "interval.astype(int)"
   ]
  },
  {
   "cell_type": "code",
   "execution_count": null,
   "id": "66109664",
   "metadata": {},
   "outputs": [],
   "source": [
    "peaks"
   ]
  },
  {
   "cell_type": "code",
   "execution_count": null,
   "id": "7569fdfb",
   "metadata": {},
   "outputs": [],
   "source": []
  },
  {
   "cell_type": "code",
   "execution_count": null,
   "id": "317aa0d3",
   "metadata": {},
   "outputs": [],
   "source": []
  },
  {
   "cell_type": "code",
   "execution_count": null,
   "id": "cc895810",
   "metadata": {},
   "outputs": [],
   "source": []
  },
  {
   "cell_type": "code",
   "execution_count": null,
   "id": "5bd6e685",
   "metadata": {},
   "outputs": [],
   "source": []
  }
 ],
 "metadata": {
  "kernelspec": {
   "display_name": "Python 3 (ipykernel)",
   "language": "python",
   "name": "python3"
  },
  "language_info": {
   "codemirror_mode": {
    "name": "ipython",
    "version": 3
   },
   "file_extension": ".py",
   "mimetype": "text/x-python",
   "name": "python",
   "nbconvert_exporter": "python",
   "pygments_lexer": "ipython3",
   "version": "3.9.12"
  }
 },
 "nbformat": 4,
 "nbformat_minor": 5
}
